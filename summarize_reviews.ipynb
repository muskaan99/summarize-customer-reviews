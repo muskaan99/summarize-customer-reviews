{
  "nbformat": 4,
  "nbformat_minor": 0,
  "metadata": {
    "colab": {
      "provenance": []
    },
    "kernelspec": {
      "name": "python3",
      "display_name": "Python 3"
    },
    "language_info": {
      "name": "python"
    }
  },
  "cells": [
    {
      "cell_type": "code",
      "source": [
        "from google.colab import drive\n",
        "drive.mount('/content/drive')"
      ],
      "metadata": {
        "colab": {
          "base_uri": "https://localhost:8080/"
        },
        "id": "rzHlRaVDbsPo",
        "outputId": "f7cc471f-015a-4bf7-e5c0-7009d483ff9d"
      },
      "execution_count": 1,
      "outputs": [
        {
          "output_type": "stream",
          "name": "stdout",
          "text": [
            "Mounted at /content/drive\n"
          ]
        }
      ]
    },
    {
      "cell_type": "code",
      "source": [
        "! pip install weaviate-client\n",
        "!pip install tiktoken"
      ],
      "metadata": {
        "colab": {
          "base_uri": "https://localhost:8080/"
        },
        "id": "5X21mvPc_xbw",
        "outputId": "47b24302-4071-4880-97d3-658f0a8330b6"
      },
      "execution_count": 2,
      "outputs": [
        {
          "output_type": "stream",
          "name": "stdout",
          "text": [
            "Collecting weaviate-client\n",
            "  Downloading weaviate_client-4.5.4-py3-none-any.whl (306 kB)\n",
            "\u001b[2K     \u001b[90m━━━━━━━━━━━━━━━━━━━━━━━━━━━━━━━━━━━━━━━━\u001b[0m \u001b[32m306.8/306.8 kB\u001b[0m \u001b[31m3.5 MB/s\u001b[0m eta \u001b[36m0:00:00\u001b[0m\n",
            "\u001b[?25hRequirement already satisfied: requests<3.0.0,>=2.30.0 in /usr/local/lib/python3.10/dist-packages (from weaviate-client) (2.31.0)\n",
            "Collecting httpx==0.27.0 (from weaviate-client)\n",
            "  Downloading httpx-0.27.0-py3-none-any.whl (75 kB)\n",
            "\u001b[2K     \u001b[90m━━━━━━━━━━━━━━━━━━━━━━━━━━━━━━━━━━━━━━━━\u001b[0m \u001b[32m75.6/75.6 kB\u001b[0m \u001b[31m4.4 MB/s\u001b[0m eta \u001b[36m0:00:00\u001b[0m\n",
            "\u001b[?25hCollecting validators==0.22.0 (from weaviate-client)\n",
            "  Downloading validators-0.22.0-py3-none-any.whl (26 kB)\n",
            "Collecting authlib<2.0.0,>=1.2.1 (from weaviate-client)\n",
            "  Downloading Authlib-1.3.0-py2.py3-none-any.whl (223 kB)\n",
            "\u001b[2K     \u001b[90m━━━━━━━━━━━━━━━━━━━━━━━━━━━━━━━━━━━━━━━━\u001b[0m \u001b[32m223.7/223.7 kB\u001b[0m \u001b[31m5.7 MB/s\u001b[0m eta \u001b[36m0:00:00\u001b[0m\n",
            "\u001b[?25hRequirement already satisfied: pydantic<3.0.0,>=2.5.0 in /usr/local/lib/python3.10/dist-packages (from weaviate-client) (2.6.4)\n",
            "Requirement already satisfied: grpcio<2.0.0,>=1.57.0 in /usr/local/lib/python3.10/dist-packages (from weaviate-client) (1.62.1)\n",
            "Collecting grpcio-tools<2.0.0,>=1.57.0 (from weaviate-client)\n",
            "  Downloading grpcio_tools-1.62.1-cp310-cp310-manylinux_2_17_x86_64.manylinux2014_x86_64.whl (2.8 MB)\n",
            "\u001b[2K     \u001b[90m━━━━━━━━━━━━━━━━━━━━━━━━━━━━━━━━━━━━━━━━\u001b[0m \u001b[32m2.8/2.8 MB\u001b[0m \u001b[31m15.1 MB/s\u001b[0m eta \u001b[36m0:00:00\u001b[0m\n",
            "\u001b[?25hCollecting grpcio-health-checking<2.0.0,>=1.57.0 (from weaviate-client)\n",
            "  Downloading grpcio_health_checking-1.62.1-py3-none-any.whl (18 kB)\n",
            "Requirement already satisfied: anyio in /usr/local/lib/python3.10/dist-packages (from httpx==0.27.0->weaviate-client) (3.7.1)\n",
            "Requirement already satisfied: certifi in /usr/local/lib/python3.10/dist-packages (from httpx==0.27.0->weaviate-client) (2024.2.2)\n",
            "Collecting httpcore==1.* (from httpx==0.27.0->weaviate-client)\n",
            "  Downloading httpcore-1.0.5-py3-none-any.whl (77 kB)\n",
            "\u001b[2K     \u001b[90m━━━━━━━━━━━━━━━━━━━━━━━━━━━━━━━━━━━━━━━━\u001b[0m \u001b[32m77.9/77.9 kB\u001b[0m \u001b[31m9.5 MB/s\u001b[0m eta \u001b[36m0:00:00\u001b[0m\n",
            "\u001b[?25hRequirement already satisfied: idna in /usr/local/lib/python3.10/dist-packages (from httpx==0.27.0->weaviate-client) (3.6)\n",
            "Requirement already satisfied: sniffio in /usr/local/lib/python3.10/dist-packages (from httpx==0.27.0->weaviate-client) (1.3.1)\n",
            "Collecting h11<0.15,>=0.13 (from httpcore==1.*->httpx==0.27.0->weaviate-client)\n",
            "  Downloading h11-0.14.0-py3-none-any.whl (58 kB)\n",
            "\u001b[2K     \u001b[90m━━━━━━━━━━━━━━━━━━━━━━━━━━━━━━━━━━━━━━━━\u001b[0m \u001b[32m58.3/58.3 kB\u001b[0m \u001b[31m6.7 MB/s\u001b[0m eta \u001b[36m0:00:00\u001b[0m\n",
            "\u001b[?25hRequirement already satisfied: cryptography in /usr/local/lib/python3.10/dist-packages (from authlib<2.0.0,>=1.2.1->weaviate-client) (42.0.5)\n",
            "Collecting protobuf>=4.21.6 (from grpcio-health-checking<2.0.0,>=1.57.0->weaviate-client)\n",
            "  Downloading protobuf-5.26.1-cp37-abi3-manylinux2014_x86_64.whl (302 kB)\n",
            "\u001b[2K     \u001b[90m━━━━━━━━━━━━━━━━━━━━━━━━━━━━━━━━━━━━━━━━\u001b[0m \u001b[32m302.8/302.8 kB\u001b[0m \u001b[31m15.0 MB/s\u001b[0m eta \u001b[36m0:00:00\u001b[0m\n",
            "\u001b[?25h  Downloading protobuf-4.25.3-cp37-abi3-manylinux2014_x86_64.whl (294 kB)\n",
            "\u001b[2K     \u001b[90m━━━━━━━━━━━━━━━━━━━━━━━━━━━━━━━━━━━━━━━━\u001b[0m \u001b[32m294.6/294.6 kB\u001b[0m \u001b[31m14.9 MB/s\u001b[0m eta \u001b[36m0:00:00\u001b[0m\n",
            "\u001b[?25hRequirement already satisfied: setuptools in /usr/local/lib/python3.10/dist-packages (from grpcio-tools<2.0.0,>=1.57.0->weaviate-client) (67.7.2)\n",
            "Requirement already satisfied: annotated-types>=0.4.0 in /usr/local/lib/python3.10/dist-packages (from pydantic<3.0.0,>=2.5.0->weaviate-client) (0.6.0)\n",
            "Requirement already satisfied: pydantic-core==2.16.3 in /usr/local/lib/python3.10/dist-packages (from pydantic<3.0.0,>=2.5.0->weaviate-client) (2.16.3)\n",
            "Requirement already satisfied: typing-extensions>=4.6.1 in /usr/local/lib/python3.10/dist-packages (from pydantic<3.0.0,>=2.5.0->weaviate-client) (4.10.0)\n",
            "Requirement already satisfied: charset-normalizer<4,>=2 in /usr/local/lib/python3.10/dist-packages (from requests<3.0.0,>=2.30.0->weaviate-client) (3.3.2)\n",
            "Requirement already satisfied: urllib3<3,>=1.21.1 in /usr/local/lib/python3.10/dist-packages (from requests<3.0.0,>=2.30.0->weaviate-client) (2.0.7)\n",
            "Requirement already satisfied: exceptiongroup in /usr/local/lib/python3.10/dist-packages (from anyio->httpx==0.27.0->weaviate-client) (1.2.0)\n",
            "Requirement already satisfied: cffi>=1.12 in /usr/local/lib/python3.10/dist-packages (from cryptography->authlib<2.0.0,>=1.2.1->weaviate-client) (1.16.0)\n",
            "Requirement already satisfied: pycparser in /usr/local/lib/python3.10/dist-packages (from cffi>=1.12->cryptography->authlib<2.0.0,>=1.2.1->weaviate-client) (2.21)\n",
            "Installing collected packages: validators, protobuf, h11, httpcore, grpcio-tools, grpcio-health-checking, httpx, authlib, weaviate-client\n",
            "  Attempting uninstall: protobuf\n",
            "    Found existing installation: protobuf 3.20.3\n",
            "    Uninstalling protobuf-3.20.3:\n",
            "      Successfully uninstalled protobuf-3.20.3\n",
            "\u001b[31mERROR: pip's dependency resolver does not currently take into account all the packages that are installed. This behaviour is the source of the following dependency conflicts.\n",
            "tensorflow-metadata 1.14.0 requires protobuf<4.21,>=3.20.3, but you have protobuf 4.25.3 which is incompatible.\u001b[0m\u001b[31m\n",
            "\u001b[0mSuccessfully installed authlib-1.3.0 grpcio-health-checking-1.62.1 grpcio-tools-1.62.1 h11-0.14.0 httpcore-1.0.5 httpx-0.27.0 protobuf-4.25.3 validators-0.22.0 weaviate-client-4.5.4\n",
            "Collecting tiktoken\n",
            "  Downloading tiktoken-0.6.0-cp310-cp310-manylinux_2_17_x86_64.manylinux2014_x86_64.whl (1.8 MB)\n",
            "\u001b[2K     \u001b[90m━━━━━━━━━━━━━━━━━━━━━━━━━━━━━━━━━━━━━━━━\u001b[0m \u001b[32m1.8/1.8 MB\u001b[0m \u001b[31m9.8 MB/s\u001b[0m eta \u001b[36m0:00:00\u001b[0m\n",
            "\u001b[?25hRequirement already satisfied: regex>=2022.1.18 in /usr/local/lib/python3.10/dist-packages (from tiktoken) (2023.12.25)\n",
            "Requirement already satisfied: requests>=2.26.0 in /usr/local/lib/python3.10/dist-packages (from tiktoken) (2.31.0)\n",
            "Requirement already satisfied: charset-normalizer<4,>=2 in /usr/local/lib/python3.10/dist-packages (from requests>=2.26.0->tiktoken) (3.3.2)\n",
            "Requirement already satisfied: idna<4,>=2.5 in /usr/local/lib/python3.10/dist-packages (from requests>=2.26.0->tiktoken) (3.6)\n",
            "Requirement already satisfied: urllib3<3,>=1.21.1 in /usr/local/lib/python3.10/dist-packages (from requests>=2.26.0->tiktoken) (2.0.7)\n",
            "Requirement already satisfied: certifi>=2017.4.17 in /usr/local/lib/python3.10/dist-packages (from requests>=2.26.0->tiktoken) (2024.2.2)\n",
            "Installing collected packages: tiktoken\n",
            "Successfully installed tiktoken-0.6.0\n"
          ]
        }
      ]
    },
    {
      "cell_type": "code",
      "source": [
        "import os\n",
        "import pandas as pd\n",
        "import re\n",
        "import tiktoken\n",
        "import random\n",
        "import weaviate\n",
        "from weaviate import EmbeddedOptions\n"
      ],
      "metadata": {
        "id": "EuLrpzh5_yCh"
      },
      "execution_count": 2,
      "outputs": []
    },
    {
      "cell_type": "code",
      "source": [
        "directory_path ='/content/drive/MyDrive/summarization_amazon_reviews'\n",
        "os.chdir(directory_path)"
      ],
      "metadata": {
        "id": "9VRXkl9mcIS7"
      },
      "execution_count": 4,
      "outputs": []
    },
    {
      "cell_type": "code",
      "source": [
        "# import zipfile\n",
        "\n",
        "# with zipfile.ZipFile('archive.zip', 'r') as zip_ref:\n",
        "#     zip_ref.extractall('data')"
      ],
      "metadata": {
        "id": "5h021cB5FR2k"
      },
      "execution_count": null,
      "outputs": []
    },
    {
      "cell_type": "markdown",
      "source": [
        "## Reading dataset"
      ],
      "metadata": {
        "id": "GtudDruPwHNW"
      }
    },
    {
      "cell_type": "code",
      "execution_count": 5,
      "metadata": {
        "id": "gvIWv7nkbn0a"
      },
      "outputs": [],
      "source": [
        "df = pd.read_csv(\"data/Reviews.csv\",\n",
        "                 usecols = ['ProductId', 'Text' ]\n",
        "                )\n",
        "df = df[df.Text.notna()]"
      ]
    },
    {
      "cell_type": "code",
      "source": [
        "df.head()"
      ],
      "metadata": {
        "colab": {
          "base_uri": "https://localhost:8080/",
          "height": 206
        },
        "id": "D9tIV7X6F9Xt",
        "outputId": "0c79410d-e484-4e7b-8d8b-dc2c5f0a912b"
      },
      "execution_count": 6,
      "outputs": [
        {
          "output_type": "execute_result",
          "data": {
            "text/plain": [
              "    ProductId                                               Text\n",
              "0  B001E4KFG0  I have bought several of the Vitality canned d...\n",
              "1  B00813GRG4  Product arrived labeled as Jumbo Salted Peanut...\n",
              "2  B000LQOCH0  This is a confection that has been around a fe...\n",
              "3  B000UA0QIQ  If you are looking for the secret ingredient i...\n",
              "4  B006K2ZZ7K  Great taffy at a great price.  There was a wid..."
            ],
            "text/html": [
              "\n",
              "  <div id=\"df-c739cfa3-8da6-41fd-8946-320870d73db5\" class=\"colab-df-container\">\n",
              "    <div>\n",
              "<style scoped>\n",
              "    .dataframe tbody tr th:only-of-type {\n",
              "        vertical-align: middle;\n",
              "    }\n",
              "\n",
              "    .dataframe tbody tr th {\n",
              "        vertical-align: top;\n",
              "    }\n",
              "\n",
              "    .dataframe thead th {\n",
              "        text-align: right;\n",
              "    }\n",
              "</style>\n",
              "<table border=\"1\" class=\"dataframe\">\n",
              "  <thead>\n",
              "    <tr style=\"text-align: right;\">\n",
              "      <th></th>\n",
              "      <th>ProductId</th>\n",
              "      <th>Text</th>\n",
              "    </tr>\n",
              "  </thead>\n",
              "  <tbody>\n",
              "    <tr>\n",
              "      <th>0</th>\n",
              "      <td>B001E4KFG0</td>\n",
              "      <td>I have bought several of the Vitality canned d...</td>\n",
              "    </tr>\n",
              "    <tr>\n",
              "      <th>1</th>\n",
              "      <td>B00813GRG4</td>\n",
              "      <td>Product arrived labeled as Jumbo Salted Peanut...</td>\n",
              "    </tr>\n",
              "    <tr>\n",
              "      <th>2</th>\n",
              "      <td>B000LQOCH0</td>\n",
              "      <td>This is a confection that has been around a fe...</td>\n",
              "    </tr>\n",
              "    <tr>\n",
              "      <th>3</th>\n",
              "      <td>B000UA0QIQ</td>\n",
              "      <td>If you are looking for the secret ingredient i...</td>\n",
              "    </tr>\n",
              "    <tr>\n",
              "      <th>4</th>\n",
              "      <td>B006K2ZZ7K</td>\n",
              "      <td>Great taffy at a great price.  There was a wid...</td>\n",
              "    </tr>\n",
              "  </tbody>\n",
              "</table>\n",
              "</div>\n",
              "    <div class=\"colab-df-buttons\">\n",
              "\n",
              "  <div class=\"colab-df-container\">\n",
              "    <button class=\"colab-df-convert\" onclick=\"convertToInteractive('df-c739cfa3-8da6-41fd-8946-320870d73db5')\"\n",
              "            title=\"Convert this dataframe to an interactive table.\"\n",
              "            style=\"display:none;\">\n",
              "\n",
              "  <svg xmlns=\"http://www.w3.org/2000/svg\" height=\"24px\" viewBox=\"0 -960 960 960\">\n",
              "    <path d=\"M120-120v-720h720v720H120Zm60-500h600v-160H180v160Zm220 220h160v-160H400v160Zm0 220h160v-160H400v160ZM180-400h160v-160H180v160Zm440 0h160v-160H620v160ZM180-180h160v-160H180v160Zm440 0h160v-160H620v160Z\"/>\n",
              "  </svg>\n",
              "    </button>\n",
              "\n",
              "  <style>\n",
              "    .colab-df-container {\n",
              "      display:flex;\n",
              "      gap: 12px;\n",
              "    }\n",
              "\n",
              "    .colab-df-convert {\n",
              "      background-color: #E8F0FE;\n",
              "      border: none;\n",
              "      border-radius: 50%;\n",
              "      cursor: pointer;\n",
              "      display: none;\n",
              "      fill: #1967D2;\n",
              "      height: 32px;\n",
              "      padding: 0 0 0 0;\n",
              "      width: 32px;\n",
              "    }\n",
              "\n",
              "    .colab-df-convert:hover {\n",
              "      background-color: #E2EBFA;\n",
              "      box-shadow: 0px 1px 2px rgba(60, 64, 67, 0.3), 0px 1px 3px 1px rgba(60, 64, 67, 0.15);\n",
              "      fill: #174EA6;\n",
              "    }\n",
              "\n",
              "    .colab-df-buttons div {\n",
              "      margin-bottom: 4px;\n",
              "    }\n",
              "\n",
              "    [theme=dark] .colab-df-convert {\n",
              "      background-color: #3B4455;\n",
              "      fill: #D2E3FC;\n",
              "    }\n",
              "\n",
              "    [theme=dark] .colab-df-convert:hover {\n",
              "      background-color: #434B5C;\n",
              "      box-shadow: 0px 1px 3px 1px rgba(0, 0, 0, 0.15);\n",
              "      filter: drop-shadow(0px 1px 2px rgba(0, 0, 0, 0.3));\n",
              "      fill: #FFFFFF;\n",
              "    }\n",
              "  </style>\n",
              "\n",
              "    <script>\n",
              "      const buttonEl =\n",
              "        document.querySelector('#df-c739cfa3-8da6-41fd-8946-320870d73db5 button.colab-df-convert');\n",
              "      buttonEl.style.display =\n",
              "        google.colab.kernel.accessAllowed ? 'block' : 'none';\n",
              "\n",
              "      async function convertToInteractive(key) {\n",
              "        const element = document.querySelector('#df-c739cfa3-8da6-41fd-8946-320870d73db5');\n",
              "        const dataTable =\n",
              "          await google.colab.kernel.invokeFunction('convertToInteractive',\n",
              "                                                    [key], {});\n",
              "        if (!dataTable) return;\n",
              "\n",
              "        const docLinkHtml = 'Like what you see? Visit the ' +\n",
              "          '<a target=\"_blank\" href=https://colab.research.google.com/notebooks/data_table.ipynb>data table notebook</a>'\n",
              "          + ' to learn more about interactive tables.';\n",
              "        element.innerHTML = '';\n",
              "        dataTable['output_type'] = 'display_data';\n",
              "        await google.colab.output.renderOutput(dataTable, element);\n",
              "        const docLink = document.createElement('div');\n",
              "        docLink.innerHTML = docLinkHtml;\n",
              "        element.appendChild(docLink);\n",
              "      }\n",
              "    </script>\n",
              "  </div>\n",
              "\n",
              "\n",
              "<div id=\"df-782e26f4-1b36-43bc-a0a1-5f5b9ae161cc\">\n",
              "  <button class=\"colab-df-quickchart\" onclick=\"quickchart('df-782e26f4-1b36-43bc-a0a1-5f5b9ae161cc')\"\n",
              "            title=\"Suggest charts\"\n",
              "            style=\"display:none;\">\n",
              "\n",
              "<svg xmlns=\"http://www.w3.org/2000/svg\" height=\"24px\"viewBox=\"0 0 24 24\"\n",
              "     width=\"24px\">\n",
              "    <g>\n",
              "        <path d=\"M19 3H5c-1.1 0-2 .9-2 2v14c0 1.1.9 2 2 2h14c1.1 0 2-.9 2-2V5c0-1.1-.9-2-2-2zM9 17H7v-7h2v7zm4 0h-2V7h2v10zm4 0h-2v-4h2v4z\"/>\n",
              "    </g>\n",
              "</svg>\n",
              "  </button>\n",
              "\n",
              "<style>\n",
              "  .colab-df-quickchart {\n",
              "      --bg-color: #E8F0FE;\n",
              "      --fill-color: #1967D2;\n",
              "      --hover-bg-color: #E2EBFA;\n",
              "      --hover-fill-color: #174EA6;\n",
              "      --disabled-fill-color: #AAA;\n",
              "      --disabled-bg-color: #DDD;\n",
              "  }\n",
              "\n",
              "  [theme=dark] .colab-df-quickchart {\n",
              "      --bg-color: #3B4455;\n",
              "      --fill-color: #D2E3FC;\n",
              "      --hover-bg-color: #434B5C;\n",
              "      --hover-fill-color: #FFFFFF;\n",
              "      --disabled-bg-color: #3B4455;\n",
              "      --disabled-fill-color: #666;\n",
              "  }\n",
              "\n",
              "  .colab-df-quickchart {\n",
              "    background-color: var(--bg-color);\n",
              "    border: none;\n",
              "    border-radius: 50%;\n",
              "    cursor: pointer;\n",
              "    display: none;\n",
              "    fill: var(--fill-color);\n",
              "    height: 32px;\n",
              "    padding: 0;\n",
              "    width: 32px;\n",
              "  }\n",
              "\n",
              "  .colab-df-quickchart:hover {\n",
              "    background-color: var(--hover-bg-color);\n",
              "    box-shadow: 0 1px 2px rgba(60, 64, 67, 0.3), 0 1px 3px 1px rgba(60, 64, 67, 0.15);\n",
              "    fill: var(--button-hover-fill-color);\n",
              "  }\n",
              "\n",
              "  .colab-df-quickchart-complete:disabled,\n",
              "  .colab-df-quickchart-complete:disabled:hover {\n",
              "    background-color: var(--disabled-bg-color);\n",
              "    fill: var(--disabled-fill-color);\n",
              "    box-shadow: none;\n",
              "  }\n",
              "\n",
              "  .colab-df-spinner {\n",
              "    border: 2px solid var(--fill-color);\n",
              "    border-color: transparent;\n",
              "    border-bottom-color: var(--fill-color);\n",
              "    animation:\n",
              "      spin 1s steps(1) infinite;\n",
              "  }\n",
              "\n",
              "  @keyframes spin {\n",
              "    0% {\n",
              "      border-color: transparent;\n",
              "      border-bottom-color: var(--fill-color);\n",
              "      border-left-color: var(--fill-color);\n",
              "    }\n",
              "    20% {\n",
              "      border-color: transparent;\n",
              "      border-left-color: var(--fill-color);\n",
              "      border-top-color: var(--fill-color);\n",
              "    }\n",
              "    30% {\n",
              "      border-color: transparent;\n",
              "      border-left-color: var(--fill-color);\n",
              "      border-top-color: var(--fill-color);\n",
              "      border-right-color: var(--fill-color);\n",
              "    }\n",
              "    40% {\n",
              "      border-color: transparent;\n",
              "      border-right-color: var(--fill-color);\n",
              "      border-top-color: var(--fill-color);\n",
              "    }\n",
              "    60% {\n",
              "      border-color: transparent;\n",
              "      border-right-color: var(--fill-color);\n",
              "    }\n",
              "    80% {\n",
              "      border-color: transparent;\n",
              "      border-right-color: var(--fill-color);\n",
              "      border-bottom-color: var(--fill-color);\n",
              "    }\n",
              "    90% {\n",
              "      border-color: transparent;\n",
              "      border-bottom-color: var(--fill-color);\n",
              "    }\n",
              "  }\n",
              "</style>\n",
              "\n",
              "  <script>\n",
              "    async function quickchart(key) {\n",
              "      const quickchartButtonEl =\n",
              "        document.querySelector('#' + key + ' button');\n",
              "      quickchartButtonEl.disabled = true;  // To prevent multiple clicks.\n",
              "      quickchartButtonEl.classList.add('colab-df-spinner');\n",
              "      try {\n",
              "        const charts = await google.colab.kernel.invokeFunction(\n",
              "            'suggestCharts', [key], {});\n",
              "      } catch (error) {\n",
              "        console.error('Error during call to suggestCharts:', error);\n",
              "      }\n",
              "      quickchartButtonEl.classList.remove('colab-df-spinner');\n",
              "      quickchartButtonEl.classList.add('colab-df-quickchart-complete');\n",
              "    }\n",
              "    (() => {\n",
              "      let quickchartButtonEl =\n",
              "        document.querySelector('#df-782e26f4-1b36-43bc-a0a1-5f5b9ae161cc button');\n",
              "      quickchartButtonEl.style.display =\n",
              "        google.colab.kernel.accessAllowed ? 'block' : 'none';\n",
              "    })();\n",
              "  </script>\n",
              "</div>\n",
              "\n",
              "    </div>\n",
              "  </div>\n"
            ],
            "application/vnd.google.colaboratory.intrinsic+json": {
              "type": "dataframe",
              "variable_name": "df"
            }
          },
          "metadata": {},
          "execution_count": 6
        }
      ]
    },
    {
      "cell_type": "code",
      "source": [
        "len(df)"
      ],
      "metadata": {
        "colab": {
          "base_uri": "https://localhost:8080/"
        },
        "id": "miCXYZuFters",
        "outputId": "07eaa66c-d87b-4eda-f5bf-cc5493d55e8a"
      },
      "execution_count": 7,
      "outputs": [
        {
          "output_type": "execute_result",
          "data": {
            "text/plain": [
              "568454"
            ]
          },
          "metadata": {},
          "execution_count": 7
        }
      ]
    },
    {
      "cell_type": "code",
      "source": [
        "df.info()"
      ],
      "metadata": {
        "colab": {
          "base_uri": "https://localhost:8080/"
        },
        "id": "uivHie4lGBL9",
        "outputId": "0abebc6d-71cc-4194-a843-925a9c84b410"
      },
      "execution_count": 8,
      "outputs": [
        {
          "output_type": "stream",
          "name": "stdout",
          "text": [
            "<class 'pandas.core.frame.DataFrame'>\n",
            "Int64Index: 568454 entries, 0 to 568453\n",
            "Data columns (total 2 columns):\n",
            " #   Column     Non-Null Count   Dtype \n",
            "---  ------     --------------   ----- \n",
            " 0   ProductId  568454 non-null  object\n",
            " 1   Text       568454 non-null  object\n",
            "dtypes: object(2)\n",
            "memory usage: 13.0+ MB\n"
          ]
        }
      ]
    },
    {
      "cell_type": "code",
      "source": [
        "print('Total unique product ids in dataset=',df.ProductId.nunique())"
      ],
      "metadata": {
        "colab": {
          "base_uri": "https://localhost:8080/"
        },
        "id": "m_U5Ti9UwpoN",
        "outputId": "f782b0fa-3c5b-4772-be35-8ea750d141d1"
      },
      "execution_count": 9,
      "outputs": [
        {
          "output_type": "stream",
          "name": "stdout",
          "text": [
            "Total unique product ids in dataset= 74258\n"
          ]
        }
      ]
    },
    {
      "cell_type": "markdown",
      "source": [
        "## Set OpenAI API key"
      ],
      "metadata": {
        "id": "Cbwh6APhxT5d"
      }
    },
    {
      "cell_type": "code",
      "source": [
        "os.environ[\"OPENAI_API_KEY\"] = 'my-openai-api-key'\n"
      ],
      "metadata": {
        "id": "5ZEHhtFg9Sic"
      },
      "execution_count": 41,
      "outputs": []
    },
    {
      "cell_type": "code",
      "source": [
        "if os.getenv(\"OPENAI_API_KEY\") is not None:\n",
        "    print (\"OPENAI_API_KEY is ready\")\n",
        "else:\n",
        "    print (\"OPENAI_API_KEY environment variable not found\")"
      ],
      "metadata": {
        "colab": {
          "base_uri": "https://localhost:8080/"
        },
        "id": "OLKt0KtF8ew6",
        "outputId": "747aea34-105b-4aee-9ae6-d2a1ec6563c9"
      },
      "execution_count": 42,
      "outputs": [
        {
          "output_type": "stream",
          "name": "stdout",
          "text": [
            "OPENAI_API_KEY is ready\n"
          ]
        }
      ]
    },
    {
      "cell_type": "markdown",
      "source": [
        "## Connect to Weaviate instance"
      ],
      "metadata": {
        "id": "sxZCp0Ciyk5k"
      }
    },
    {
      "cell_type": "code",
      "source": [
        "client = weaviate.Client(\n",
        "    url=\"https://myurlforweaviate.weaviate.network\",\n",
        "    additional_headers={\n",
        "        \"X-OpenAI-Api-Key\": os.getenv(\"OPENAI_API_KEY\")\n",
        "    }\n",
        ")\n",
        "\n",
        "# Check if your instance is live and ready\n",
        "client.is_ready()\n",
        "\n",
        "#client.schema.delete_all()"
      ],
      "metadata": {
        "colab": {
          "base_uri": "https://localhost:8080/"
        },
        "id": "gyqsp3iSxvhD",
        "outputId": "9f303625-7456-4f2c-b941-ad07a164ee32"
      },
      "execution_count": 45,
      "outputs": [
        {
          "output_type": "execute_result",
          "data": {
            "text/plain": [
              "True"
            ]
          },
          "metadata": {},
          "execution_count": 45
        }
      ]
    },
    {
      "cell_type": "markdown",
      "source": [
        "## Schema\n"
      ],
      "metadata": {
        "id": "GpVP3Stl9UfW"
      }
    },
    {
      "cell_type": "code",
      "source": [
        "if client.schema.exists(\"Reviews\"):\n",
        "    client.schema.delete_class(\"Reviews\")\n",
        "\n",
        "class_obj = {\n",
        "    \"class\": \"Reviews\",\n",
        "    \"properties\": [\n",
        "        {\n",
        "            \"name\": \"review_text\",\n",
        "            \"dataType\": [\"text\"],\n",
        "        },\n",
        "        {\n",
        "            \"name\": \"product_id\",\n",
        "            \"dataType\": [\"text\"],\n",
        "            \"moduleConfig\": {\n",
        "                \"text2vec-openai\": {\n",
        "                    \"skip\": True, # skipping vectorization for this property\n",
        "                    \"vectorizePropertyName\": False\n",
        "                }\n",
        "            }\n",
        "        },\n",
        "    ],\n",
        "    \"vectorizer\": \"text2vec-openai\",\n",
        "    \"moduleConfig\": {\n",
        "        \"text2vec-openai\": {\n",
        "            \"vectorizeClassName\": False,\n",
        "            \"model\": \"ada\",\n",
        "            \"modelVersion\": \"002\",\n",
        "            \"type\": \"text\"\n",
        "        },\n",
        "        \"generative-openai\": {\n",
        "          \"model\": \"gpt-3.5-turbo\"\n",
        "        }\n",
        "\n",
        "    },\n",
        "}\n",
        "\n",
        "client.schema.create_class(class_obj)"
      ],
      "metadata": {
        "id": "cLiz-e9ycggi"
      },
      "execution_count": 46,
      "outputs": []
    },
    {
      "cell_type": "code",
      "source": [
        "df.columns"
      ],
      "metadata": {
        "id": "08FgU2N-5Z_t",
        "colab": {
          "base_uri": "https://localhost:8080/"
        },
        "outputId": "50940e7c-d539-40cc-8f25-ea88cbf855d3"
      },
      "execution_count": 47,
      "outputs": [
        {
          "output_type": "execute_result",
          "data": {
            "text/plain": [
              "Index(['ProductId', 'Text'], dtype='object')"
            ]
          },
          "metadata": {},
          "execution_count": 47
        }
      ]
    },
    {
      "cell_type": "markdown",
      "source": [
        "## Populating database in batches\n"
      ],
      "metadata": {
        "id": "LVSoAtjr5aTK"
      }
    },
    {
      "cell_type": "code",
      "source": [
        "from weaviate.util import generate_uuid5\n",
        "\n",
        "client.batch.configure(batch_size=100)# batch size of 100\n",
        "\n",
        "with client.batch as batch:\n",
        "    for _, row in df.iterrows():\n",
        "        review_item = {\n",
        "            \"review_text\": row.Text,\n",
        "            \"product_id\": row.ProductId\n",
        "        }\n",
        "\n",
        "        batch.add_data_object(\n",
        "            class_name=\"Reviews\",\n",
        "            data_object=review_item,\n",
        "            uuid=generate_uuid5(review_item)\n",
        "        )"
      ],
      "metadata": {
        "id": "ftuv09OqtQ9H"
      },
      "execution_count": 48,
      "outputs": []
    },
    {
      "cell_type": "markdown",
      "source": [
        "## Prompt"
      ],
      "metadata": {
        "id": "7c_DScLEHP44"
      }
    },
    {
      "cell_type": "code",
      "source": [
        "generate_prompt = \"\"\"\n",
        "Summarize these customer reviews into one paragraph long review:\n",
        "{review_text}\n",
        "\"\"\""
      ],
      "metadata": {
        "id": "alQJTki6HRY9"
      },
      "execution_count": null,
      "outputs": []
    },
    {
      "cell_type": "markdown",
      "source": [
        "## Generate summary of products"
      ],
      "metadata": {
        "id": "bqXLiT2XIBQQ"
      }
    },
    {
      "cell_type": "code",
      "source": [
        "for product_id in list(df.ProductId.unique()):\n",
        "    summary = client.query\\\n",
        "                .get('Reviews',\n",
        "                     ['review_text', \"product_id\"])\\\n",
        "                .with_where({\n",
        "                    \"path\": [\"product_id\"],\n",
        "                    \"operator\": \"Equal\",\n",
        "                    \"valueText\": product_id\n",
        "                })\\\n",
        "                .with_generate(grouped_task=generate_prompt)\\\n",
        "                .do()[\"data\"][\"Get\"][\"Reviews\"]\n",
        "\n",
        "    new_review_summary = {\n",
        "        \"product_id\" : product_id,\n",
        "        \"summary\": summary[0][\"_additional\"][\"generate\"][\"groupedResult\"]\n",
        "    }\n",
        "\n",
        "    # Create new object\n",
        "    client.data_object.create(\n",
        "      data_object = new_review_summary,\n",
        "      class_name = \"Products\",\n",
        "      uuid = generate_uuid5(new_review_summary)\n",
        "    )"
      ],
      "metadata": {
        "id": "mRo68X0p5pC1"
      },
      "execution_count": 50,
      "outputs": []
    },
    {
      "cell_type": "markdown",
      "source": [
        "## Viewing the summaries generated for different product_ids"
      ],
      "metadata": {
        "id": "7xyXRSIHIuN8"
      }
    },
    {
      "cell_type": "markdown",
      "source": [
        "### For product_id='B000LKVRQA'"
      ],
      "metadata": {
        "id": "xgXJyqgaKqrP"
      }
    },
    {
      "cell_type": "code",
      "source": [
        "reviews_1 = client.query\\\n",
        "                .get('Reviews', ['review_text', \"product_id\"])\\\n",
        "                .with_where({\n",
        "                    \"path\": [\"product_id\"],\n",
        "                    \"operator\": \"Equal\",\n",
        "                    \"valueText\": \"B000LKVRQA\"\n",
        "                })\\\n",
        "               .do()"
      ],
      "metadata": {
        "id": "nqFTXO1LIstT"
      },
      "execution_count": 51,
      "outputs": []
    },
    {
      "cell_type": "code",
      "source": [
        "reviews_1 #reviews present in dataset for the product"
      ],
      "metadata": {
        "colab": {
          "base_uri": "https://localhost:8080/"
        },
        "id": "e6MPmUr99wOp",
        "outputId": "0b4b03a3-f5d9-41a5-c59c-4742b8d108ee"
      },
      "execution_count": 52,
      "outputs": [
        {
          "output_type": "execute_result",
          "data": {
            "text/plain": [
              "{'data': {'Get': {'Reviews': [{'product_id': 'B000LKVRQA',\n",
              "     'review_text': \"An admitted fan of Stash Earl Grey, nevertheless I endeavor to try them all.  St. Dalfour seemed intriguing, being a French company instead of British, so I gave it a try.  This tea neither tastes nor smells anything like Earl Grey.  The aroma of the tea upon opening the bag is rather bland with no hint of bergamont.  Believe it or not, the aroma and flavor after steeping are a mild licorice.  I'm serious!  If I was given this tea with no forewarning, I would have assumed it was Licorice Tea.  The flavor is not unpleasant.  It is quite different.  It is definitely not Earl Grey.  Be forewarned if you are seeking an Earl Grey aroma/flavor - this is not it.\"},\n",
              "    {'product_id': 'B000LKVRQA',\n",
              "     'review_text': \"St. Dalfour's Earl Grey is one of my favorite teas. This tea has such a distinctively-delicious and refreshing flavor. The French are true connoisseurs of brilliance and this tea falls under such auspices.  Have a cup of this with a slice of homemade bread, smothered in St. Dalfour's marmalade and you'll know what I'm writing about.\"},\n",
              "    {'product_id': 'B000LKVRQA',\n",
              "     'review_text': \"I wanted to branch out and try this Earl Grey blend (I've tried and enjoyed many as it's my favorite tea).  This tastes too much like licorice for me.  I had hoped it would grow on me with time, but I'm still not feeling this one.  Won't be purchasing again.\"},\n",
              "    {'product_id': 'B000LKVRQA',\n",
              "     'review_text': '*****<br />St. Dalfour\\'s wonderful Certified Organic Earl Grey Tea is made from hand-picked, organic Ceylon tea. The flavor is enhanced by \"the all natural flavor of bergamot orange\", which added interest and made my tea experience delightful. The orange flavor was subtle, not overwhelming at all. I left the tea bag in as I drank the tea (the whole time, much longer than recommended), which turns most teas bitter, but not this one.<br /><br />St. Dalfour is a French firm that makes natural teas, including this organic tea. There is not a lot of information about them on their web site beyond the basics, but what is there looks good.<br /><br />Earl Grey teas are one of my favorite black teas, so if you are a fan also, this tea is one not to miss.<br /><br />Highly recommended.<br />*****'},\n",
              "    {'product_id': 'B000LKVRQA',\n",
              "     'review_text': \"This is the best Earl Grey I've found and my overall favorite tea.  It has a distinct, unique flavor unlike any other Earl Grey.  I used to drink a wide variety of teas but now I drink this about 90% of the time.  I highly recommend this product.\"},\n",
              "    {'product_id': 'B000LKVRQA',\n",
              "     'review_text': \"I love this tea.  It is almost addictive.  I try new teas all the time and this I am hooked.  Multiple cups per day. It's good for you and organic. What more could you ask for.  I try to support the organic industry when I can, it's the future.  Like green eggs and ham, try it you will see.\"},\n",
              "    {'product_id': 'B000LKVRQA',\n",
              "     'review_text': \"Quite simply one of the best Earl Grey's I've tried, and I've had many Earl Greys. Some EG's are muted and understated but this one is very floral and has a very strong, but good taste. It's not over the top, just a very nice EG flavor. And to top it off, it's organic and the price is great!\"},\n",
              "    {'product_id': 'B000LKVRQA',\n",
              "     'review_text': \"This is my husbands favorite tea.  He won't drink any other earl grey tea!  Once he tasted this, it was all over!  He used to be a avid coffee drinker, but needed something that was better for him and not raise his blood pressure.  It doesn't have any artificial flavorings as most earl grey teas.  Instead, it contains real oil of Bergamont.  Yum!!\"},\n",
              "    {'product_id': 'B000LKVRQA',\n",
              "     'review_text': 'I am very disappointed after drinking my first cup of this tea. I wish I would have read the reviews. I love Earl Grey because of the fresh flavor of bergamot, but this tea does not even have a hint of bergamot! Sadly, I bought a pack of 16 with 25 tea bags per box, and I will have to find them a a new home : ('},\n",
              "    {'product_id': 'B000LKVRQA',\n",
              "     'review_text': 'This is the best earl grey tea I have ever had and I am a real tea snob. It is smooth,heavy and has a great aroma.It feels like you have really had a cup of tea when you are finished. I was a Twinings only before this-this beats it hands down.'}]}}}"
            ]
          },
          "metadata": {},
          "execution_count": 52
        }
      ]
    },
    {
      "cell_type": "code",
      "source": [
        "result_1 = client.query\\\n",
        "            .get('Products', ['product_id', 'summary'])\\\n",
        "            .with_where({\n",
        "                \"path\": [\"product_id\"],\n",
        "                \"operator\": \"Equal\",\n",
        "                \"valueText\": \"B000LKVRQA\"\n",
        "            })\\\n",
        "            .do()"
      ],
      "metadata": {
        "id": "vpnVUzMy9xhy"
      },
      "execution_count": 53,
      "outputs": []
    },
    {
      "cell_type": "code",
      "source": [
        "result_1 #generated summary"
      ],
      "metadata": {
        "colab": {
          "base_uri": "https://localhost:8080/"
        },
        "id": "7ZZ_dkIf94Jd",
        "outputId": "b5627d45-0a9b-42b1-90c9-278305d99c18"
      },
      "execution_count": 54,
      "outputs": [
        {
          "output_type": "execute_result",
          "data": {
            "text/plain": [
              "{'data': {'Get': {'Products': [{'product_id': 'B000LKVRQA',\n",
              "     'summary': \"Overall, the reviews for St. Dalfour's Earl Grey tea are mixed. Some customers enjoy the unique licorice flavor and find it refreshing, while others are disappointed by the lack of bergamot aroma and flavor typically associated with Earl Grey tea. Those who appreciate the organic and natural ingredients highly recommend this tea, praising its distinct and floral taste. Some customers even claim it is the best Earl Grey they have ever tried, with a smooth and heavy texture that leaves a lasting impression. However, those seeking a traditional Earl Grey experience may be let down by the deviation from the classic flavor profile.\"}]}}}"
            ]
          },
          "metadata": {},
          "execution_count": 54
        }
      ]
    },
    {
      "cell_type": "markdown",
      "source": [
        "### For product_id='B000Z4Y50M'"
      ],
      "metadata": {
        "id": "x8mqlrhnQYNO"
      }
    },
    {
      "cell_type": "code",
      "source": [
        "reviews_2=client.query\\\n",
        "                .get('Reviews', ['review_text', \"product_id\"])\\\n",
        "                .with_where({\n",
        "                    \"path\": [\"product_id\"],\n",
        "                    \"operator\": \"Equal\",\n",
        "                    \"valueText\": \"B000Z4Y50M\"\n",
        "                })\\\n",
        "               .do()"
      ],
      "metadata": {
        "id": "lurINTKxAQIt"
      },
      "execution_count": 57,
      "outputs": []
    },
    {
      "cell_type": "code",
      "source": [
        "reviews_2"
      ],
      "metadata": {
        "colab": {
          "base_uri": "https://localhost:8080/"
        },
        "id": "3muJZdCcAhto",
        "outputId": "8b0839c6-d505-47e7-c29e-4f88f606c613"
      },
      "execution_count": 58,
      "outputs": [
        {
          "output_type": "execute_result",
          "data": {
            "text/plain": [
              "{'data': {'Get': {'Reviews': [{'product_id': 'B000Z4Y50M',\n",
              "     'review_text': \"This hot sauce is without a doubt one of the best jalapeno hot sauces' on the market.  This is my second order and it is a great value for the price. It is a required staple in my pantry!  If you love hot sauce, you won't regret this purchase!\"},\n",
              "    {'product_id': 'B000Z4Y50M',\n",
              "     'review_text': \"Probably the best tasting hot sauce I've tried.  Has a nice kick to it too, but not so hot it's unbearable.\"}]}}}"
            ]
          },
          "metadata": {},
          "execution_count": 58
        }
      ]
    },
    {
      "cell_type": "code",
      "source": [
        "result_2=client.query\\\n",
        "            .get('Products', ['product_id', 'summary'])\\\n",
        "            .with_where({\n",
        "                \"path\": [\"product_id\"],\n",
        "                \"operator\": \"Equal\",\n",
        "                \"valueText\": \"B000Z4Y50M\"\n",
        "            })\\\n",
        "            .do()"
      ],
      "metadata": {
        "id": "ITbQfDhmAQLi"
      },
      "execution_count": 61,
      "outputs": []
    },
    {
      "cell_type": "code",
      "source": [
        "result_2"
      ],
      "metadata": {
        "colab": {
          "base_uri": "https://localhost:8080/"
        },
        "id": "2dI_D46gAQO7",
        "outputId": "8440d6a3-b0b1-4f4a-a941-d98738b7ca90"
      },
      "execution_count": 62,
      "outputs": [
        {
          "output_type": "execute_result",
          "data": {
            "text/plain": [
              "{'data': {'Get': {'Products': [{'product_id': 'B000Z4Y50M',\n",
              "     'summary': 'Customers rave about this jalapeno hot sauce, calling it one of the best on the market. They praise its great value for the price and note that it has become a staple in their pantry. With a nice kick but not too unbearable, this hot sauce is highly recommended for hot sauce lovers.'}]}}}"
            ]
          },
          "metadata": {},
          "execution_count": 62
        }
      ]
    },
    {
      "cell_type": "markdown",
      "source": [
        "### For product_id='B003ULDEU4'"
      ],
      "metadata": {
        "id": "tUWXo54FSSTk"
      }
    },
    {
      "cell_type": "code",
      "source": [
        "reviews_3=client.query\\\n",
        "                .get('Reviews', ['review_text', \"product_id\"])\\\n",
        "                .with_where({\n",
        "                    \"path\": [\"product_id\"],\n",
        "                    \"operator\": \"Equal\",\n",
        "                    \"valueText\": \"B003ULDEU4\"\n",
        "                })\\\n",
        "               .do()"
      ],
      "metadata": {
        "id": "QPobCrqZSSTr"
      },
      "execution_count": 86,
      "outputs": []
    },
    {
      "cell_type": "code",
      "source": [
        "reviews_3"
      ],
      "metadata": {
        "colab": {
          "base_uri": "https://localhost:8080/"
        },
        "outputId": "4706c6fe-a7db-41b7-cfac-488847ec4fcb",
        "id": "zEr3JfZnSSTs"
      },
      "execution_count": 87,
      "outputs": [
        {
          "output_type": "execute_result",
          "data": {
            "text/plain": [
              "{'data': {'Get': {'Reviews': [{'product_id': 'B003ULDEU4',\n",
              "     'review_text': '*****<br />Dry Desert Lime is an unusual premium Numi tea. It is herbal tea (caffeine-free) containing solely dried lime---that\\'s all---not lime and green/black tea, not artificial lime flavor, but real lime---alone---a truly remarkable feat. It is certified organic, and is kosher. It has the most amazing tart and lovely taste. If you like lime, you\\'ll love this tea. If you don\\'t like lime, definitely pass, as it is a very intense \"lime experience\". I love it!<br /><br />On the box, the manufacturer lyrically writes: \"From the far reaches of the Arabian Desert, this rare lime has been enjoyed for thousands of years, both as a spice in Middle Eastern cuisine and as a teasan. Traditionally harvested and dried in the hot desert sun, this oasis of Vitamin C has been drunk to soothe just about everything. The first taste brings a distant yet familiar impression, leaving the trace of a fleeting memory on the tip of your tongue. We find that its clean, bracing, and reviving citrus pleasure, nicely balanced with a touch of sugar, lifts the blues. Try it, you\\'ll fall in love with it!\"<br /><br />If you like Numi teas and enjoy lime, get it---you won\\'t be sorry. If you are new to Numi but love lime, or are curious to try it from the description, I do not think you could find a better source than Numi. In fact, I have never heard of anyone else making this tea. I enjoy serving it to company, but even more, just for me.<br /><br />Highly recommended.<br />*****'},\n",
              "    {'product_id': 'B003ULDEU4',\n",
              "     'review_text': 'I grew up in Virginia, where tea is always green, sweet and iced! I have drank plenty of tea growing up and pretty much fell away from it as an adult. After having hot tea at several Chinese restaurants, I was amazed to learn, all tea isn\\'t sweet iced tea! :)<br />My quest for the perfect cup of tea thus began!<br /><br /> In the past 2 years I have ordered every type of tea imaginable & have came across quite a few nice teas.. I have learned some that smell wonderful taste drab & some that smell drab taste wonderful.. I just recently came across Numi teas, while trying to find a company that made rose tea (which Numi does & I have to tell you, it\\'s a very delightful tea, which was sinfully delicious when brewed with jasmine).<br /><br />I ordered the Numi Dry Desert Lime on a whim... I had never heard of such a tea & although I have never enjoyed lemon tea, I love lemonade & lime drinks, so I thought why not? That was the BEST decision I have made in a long time! It is NOTHING like \"tea with lemon\", as the package states, it is 100% desert lime. It is wonderful hot & very refreshing cold. I never add more than a occasional dash of honey to my hot teas, but I have to admit to adding one pack of splenda to this tea.. It created the perfect blend of \"sweet & sour\". I gave a cup to my mom & she preferred it plain, so try it out both ways, as well as hot & cold! I absolutely adore this tea & will be ordering it again very soon!'},\n",
              "    {'product_id': 'B003ULDEU4',\n",
              "     'review_text': 'Buy this tea JUST for the Dried Lime Lentil soup recipe inside the box incorporating the use of the lime teasans.  Can you say amazing? Yes, even my young boys who HATE lentils will eat the soup from this tea. And serve with some homemade bread.<br /><br />YUM!'},\n",
              "    {'product_id': 'B003ULDEU4',\n",
              "     'review_text': 'I especially enjoy a pot of hot tea in the evening before bedtime. My favorite teas tend to be flavored black teas, which are high in caffeine. So finding flavorful, caffeine-free teas for evening is more challenging. I usually tend toward Rooibos teas, since most herbal teas tend to be less flavorful. ...All this to say that Numi Tea Dry Desert Lime Herbal Teasan packs lots of flavor into this caffeine-free tea! It is relaxing and refreshing, soothing and stimulating. After a long day at work, this is something to look forward to, and has become one of my favorite teas--at bedtime or anytime.'},\n",
              "    {'product_id': 'B003ULDEU4',\n",
              "     'review_text': 'This tea has a VERY strong lime flavor, which we love in our household. The flavor is very strongly reminiscent of narthangai (south Indian dried lime), so much so that we refer to it as narthangai tea.'},\n",
              "    {'product_id': 'B003ULDEU4',\n",
              "     'review_text': \"The dark brown brew resulting from Numi Tea Dry Desert Lime is deceptive.  It looks like regular tea.  It's aroma is mild, but it's flavor is amazingly refreshing, a citrus treat.<br /><br />I'm not especially fond of sour tastes, I normally need extra sugar and ice in my lemonade, and many herb teas turn me off for their strong sour flavor (possibly the hibiscus?).  Pleasantly, and inexplicably, this Numi Lime tisane delivers bright, tart flavor that is somehow mellowed and without the unwanted burning aftertaste of so many other citrus beverages.<br /><br />Above and beyond the rich lime-juice flavor is this amazing light and exotic aftertaste - I can only suppose it's a product of fermenting and drying the lime peels.  It is an earthy, misty and mysterious flavor, but as odd as it is, it is also ephemeral and fleeting. Just a hint of a chergui in your teacup, if you allow your imagination to draw it out.<br /><br />I've tried Numi Dry Desert Lime with stevia, with honey, with agave, but I confess my favorite is to add only a pinch of demerara raw sugar.  Iced is so refreshing, warm is fortifying.  Great stuff!  I may never touch a hibiscus-based tisane again.\"},\n",
              "    {'product_id': 'B003ULDEU4',\n",
              "     'review_text': 'Use this tea with other teas when making iced tea.  I mix it with Tazo Zen for a mojito flavor'},\n",
              "    {'product_id': 'B003ULDEU4',\n",
              "     'review_text': 'I like lime and I like herbal tea, but I did not particularly like this tea. I will give them that it is unusual. To each his own!'}]}}}"
            ]
          },
          "metadata": {},
          "execution_count": 87
        }
      ]
    },
    {
      "cell_type": "code",
      "source": [
        "result_3=client.query\\\n",
        "            .get('Products', ['product_id', 'summary'])\\\n",
        "            .with_where({\n",
        "                \"path\": [\"product_id\"],\n",
        "                \"operator\": \"Equal\",\n",
        "                \"valueText\": \"B003ULDEU4\"\n",
        "\n",
        "            })\\\n",
        "            .do()"
      ],
      "metadata": {
        "id": "417ukGjISSTt"
      },
      "execution_count": 84,
      "outputs": []
    },
    {
      "cell_type": "code",
      "source": [
        "result_3"
      ],
      "metadata": {
        "colab": {
          "base_uri": "https://localhost:8080/"
        },
        "outputId": "e44dc9ad-40b4-4140-a7dc-6ef62472d314",
        "id": "RHDT0roZSSTt"
      },
      "execution_count": 85,
      "outputs": [
        {
          "output_type": "execute_result",
          "data": {
            "text/plain": [
              "{'data': {'Get': {'Products': [{'product_id': 'B003ULDEU4',\n",
              "     'summary': 'Numi Dry Desert Lime herbal tea is a unique and premium tea made solely from dried lime, offering a tart and lovely taste that is perfect for lime lovers. The tea is certified organic, kosher, and described as a clean, bracing, and reviving citrus pleasure. Customers highly recommend this tea for its refreshing flavor, whether enjoyed hot or cold. Some even use it in recipes, like a Dried Lime Lentil soup, and mix it with other teas for a unique flavor experience. While some may find the lime flavor too intense, overall, Numi Dry Desert Lime tea is praised for its exotic and refreshing taste that stands out from other herbal teas on the market.'}]}}}"
            ]
          },
          "metadata": {},
          "execution_count": 85
        }
      ]
    }
  ]
}